{
 "cells": [
  {
   "cell_type": "markdown",
   "metadata": {},
   "source": [
    "# Eat Safe, Love"
   ]
  },
  {
   "cell_type": "markdown",
   "metadata": {},
   "source": [
    "## Notebook Set Up"
   ]
  },
  {
   "cell_type": "code",
   "execution_count": null,
   "metadata": {},
   "outputs": [],
   "source": [
    "# Import dependencies\n",
    "from pymongo import MongoClient\n",
    "import pandas as pd\n",
    "from pprint import pprint"
   ]
  },
  {
   "cell_type": "code",
   "execution_count": null,
   "metadata": {},
   "outputs": [],
   "source": [
    "# Create an instance of MongoClient\n",
    "mongo = MongoClient(port=27017)"
   ]
  },
  {
   "cell_type": "code",
   "execution_count": null,
   "metadata": {},
   "outputs": [],
   "source": [
    "# assign the uk_food database to a variable name\n",
    "db = mongo['uk_food']"
   ]
  },
  {
   "cell_type": "code",
   "execution_count": null,
   "metadata": {},
   "outputs": [],
   "source": [
    "# review the collections in our database\n",
    "print(db.list_collection_names())"
   ]
  },
  {
   "cell_type": "code",
   "execution_count": null,
   "metadata": {},
   "outputs": [],
   "source": [
    "# assign the collection to a variable\n",
    "establishments = db['establishments']"
   ]
  },
  {
   "cell_type": "markdown",
   "metadata": {},
   "source": [
    "## Part 3: Exploratory Analysis\n",
    "Unless otherwise stated, for each question: \n",
    "* Use `count_documents` to display the number of documents contained in the result.\n",
    "* Display the first document in the results using `pprint`.\n",
    "* Convert the result to a Pandas DataFrame, print the number of rows in the DataFrame, and display the first 10 rows."
   ]
  },
  {
   "cell_type": "markdown",
   "metadata": {},
   "source": [
    "### 1. Which establishments have a hygiene score equal to 20?"
   ]
  },
  {
   "cell_type": "code",
   "execution_count": null,
   "metadata": {},
   "outputs": [],
   "source": [
    "# Find the establishments with a hygiene score of 20\n",
    "query = {'scores.Hygiene': 20}\n",
    "\n",
    "# Use count_documents to display the number of documents in the result\n",
    "print(\"Number of documents in result\", establishments.count_documents(query))\n",
    "\n",
    "# Display the first document in the results using pprint\n",
    "results = establishments.find(query)\n",
    "pprint(results[0])"
   ]
  },
  {
   "cell_type": "code",
   "execution_count": null,
   "metadata": {},
   "outputs": [],
   "source": [
    "# Convert the result to a Pandas DataFrame\n",
    "hygiene_20 = establishments.find(query)\n",
    "hygiene_df = pd.DataFrame(hygiene_20)\n",
    "\n",
    "# Display the number of rows in the DataFrame\n",
    "print(\"Documents in DF\", len(hygiene_df))\n",
    "\n",
    "# Display the first 10 rows of the DataFrame\n",
    "hygiene_df.head(10)"
   ]
  },
  {
   "cell_type": "markdown",
   "metadata": {},
   "source": [
    "### 2. Which establishments in London have a `RatingValue` greater than or equal to 4?"
   ]
  },
  {
   "cell_type": "code",
   "execution_count": null,
   "metadata": {},
   "outputs": [],
   "source": [
    "# Find the establishments with London as the Local Authority and has a RatingValue greater than or equal to 4.\n",
    "query = {'LocalAuthorityName': {'$regex': 'London'}, 'RatingValue': {'$gte': '4'}}\n",
    "print('Number of documents in result:', establishments.count_documents(query))\n",
    "\n",
    "# Use count_documents to display the number of documents in the result\n",
    "print(\"First result\")\n",
    "results = establishments.find(query)\n",
    "\n",
    "# Display the first document in the results using pprint\n",
    "pprint(results[0])"
   ]
  },
  {
   "cell_type": "code",
   "execution_count": null,
   "metadata": {},
   "outputs": [],
   "source": [
    "# Convert the result to a Pandas DataFrame\n",
    "london_4plus = establishments.find(query)\n",
    "london_df = pd.DataFrame(london_4plus)\n",
    "\n",
    "# Display the number of rows in the DataFrame\n",
    "print(\"Documents in DF\", len(london_df))\n",
    "\n",
    "# Display the first 10 rows of the DataFrame\n",
    "london_df.head(10)"
   ]
  },
  {
   "cell_type": "markdown",
   "metadata": {},
   "source": [
    "### 3. What are the top 5 establishments with a `RatingValue` rating value of 5, sorted by lowest hygiene score, nearest to the new restaurant added, \"Penang Flavours\"?"
   ]
  },
  {
   "cell_type": "code",
   "execution_count": null,
   "metadata": {},
   "outputs": [],
   "source": [
    "# Search within 0.01 degree on either side of the latitude and longitude.\n",
    "# Rating value must equal 5\n",
    "# Sort by hygiene score\n",
    "\n",
    "degree_search = 0.01\n",
    "latitude = 51.49014200\n",
    "longitude = 0.08384000\n",
    "\n",
    "query = {\n",
    "    'geocode.latitude': {'$gte': latitude-degree_search, '$lte': latitude+degree_search},\n",
    "    'geocode.longitude': {'$gte': longitude-degree_search, '$lte': longitude+degree_search},\n",
    "    'RatingValue': '5'\n",
    "    }\n",
    "\n",
    "sort = [('sort.Hygiene', 1)]\n",
    "limit = 5 \n",
    "\n",
    "# Print the results\n",
    "pprint(list(establishments.find(query).sort(sort).limit(limit)))"
   ]
  },
  {
   "cell_type": "code",
   "execution_count": null,
   "metadata": {},
   "outputs": [],
   "source": [
    "# Convert result to Pandas DataFrame\n",
    "near_penang_flavours = establishments.find(query).sort(sort).limit(limit)\n",
    "near_penang_flavours_df = pd.DataFrame(near_penang_flavours)\n",
    "near_penang_flavours_df"
   ]
  },
  {
   "cell_type": "markdown",
   "metadata": {},
   "source": [
    "### 4. How many establishments in each Local Authority area have a hygiene score of 0?"
   ]
  },
  {
   "cell_type": "code",
   "execution_count": null,
   "metadata": {},
   "outputs": [],
   "source": [
    "# Create a pipeline that: \n",
    "# 1. Matches establishments with a hygiene score of 0\n",
    "# 2. Groups the matches by Local Authority\n",
    "# 3. Sorts the matches from highest to lowest\n",
    "pipeline = [\n",
    "    {'$match': {'scores.Hygiene': 0}},\n",
    "    {'$group': {'_id': '$LocalAuthorityName', 'count': {'$sum': 1}}},\n",
    "    {'$sort': {'count': -1 }}\n",
    "]\n",
    "\n",
    "# Print the number of documents in the result\n",
    "results = list(establishments.aggregate(pipeline))\n",
    "\n",
    "# Print the first 10 results\n",
    "pprint(results[0:10])"
   ]
  },
  {
   "cell_type": "code",
   "execution_count": null,
   "metadata": {},
   "outputs": [],
   "source": [
    "# Convert the result to a Pandas DataFrame\n",
    "results_df = pd.DataFrame(results)\n",
    "\n",
    "# Display the number of rows in the DataFrame\n",
    "print(\"Rows:\", len(results_df))\n",
    "\n",
    "# Display the first 10 rows of the DataFrame\n",
    "results_df.head(10)"
   ]
  }
 ],
 "metadata": {
  "kernelspec": {
   "display_name": "Python 3",
   "language": "python",
   "name": "python3"
  },
  "language_info": {
   "codemirror_mode": {
    "name": "ipython",
    "version": 3
   },
   "file_extension": ".py",
   "mimetype": "text/x-python",
   "name": "python",
   "nbconvert_exporter": "python",
   "pygments_lexer": "ipython3",
   "version": "3.7.4"
  }
 },
 "nbformat": 4,
 "nbformat_minor": 5
}
